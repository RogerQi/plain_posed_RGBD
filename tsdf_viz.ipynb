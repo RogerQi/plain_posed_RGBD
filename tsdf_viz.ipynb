{
 "cells": [
  {
   "cell_type": "code",
   "execution_count": null,
   "metadata": {},
   "outputs": [],
   "source": [
    "import os\n",
    "import numpy as np\n",
    "import open3d as o3d\n",
    "from PIL import Image\n",
    "from tqdm import tqdm, trange"
   ]
  },
  {
   "cell_type": "code",
   "execution_count": null,
   "metadata": {},
   "outputs": [],
   "source": [
    "VOXEL_SIZE = 0.01\n",
    "DEPTH_SCALING_FACTOR = 1000.0\n",
    "DEPTH_CUTOFF = 1.0\n",
    "\n",
    "base_dir = '/home/roger/gaussian_feature/feat_data/tabletop_test'"
   ]
  },
  {
   "cell_type": "code",
   "execution_count": null,
   "metadata": {},
   "outputs": [],
   "source": [
    "depth_dir = os.path.join(base_dir, 'depth')\n",
    "color_dir = os.path.join(base_dir, 'color')\n",
    "pose_dir = os.path.join(base_dir, 'pose')\n",
    "intrinsics_mat = np.loadtxt(os.path.join(base_dir, 'intrinsics.txt'))\n",
    "\n",
    "depth_files = sorted(os.listdir(depth_dir))\n",
    "color_files = sorted(os.listdir(color_dir))\n",
    "pose_files = sorted(os.listdir(pose_dir))\n",
    "\n",
    "assert len(depth_files) == len(color_files) == len(pose_files)"
   ]
  },
  {
   "cell_type": "code",
   "execution_count": null,
   "metadata": {},
   "outputs": [],
   "source": [
    "volume = o3d.pipelines.integration.ScalableTSDFVolume(\n",
    "    voxel_length=VOXEL_SIZE,\n",
    "    sdf_trunc=3 * VOXEL_SIZE,\n",
    "    color_type=o3d.pipelines.integration.TSDFVolumeColorType.RGB8\n",
    ")\n",
    "\n",
    "for idx in trange(len(depth_files)):\n",
    "    pose = np.loadtxt(os.path.join(pose_dir, pose_files[idx]))\n",
    "\n",
    "    rgb = np.array(Image.open(os.path.join(color_dir, color_files[idx])))\n",
    "    rgb = np.ascontiguousarray(rgb)\n",
    "    depth = np.array(Image.open(os.path.join(depth_dir, depth_files[idx]))) / DEPTH_SCALING_FACTOR\n",
    "    depth[depth > DEPTH_CUTOFF] = 0.0 # remove invalid depth\n",
    "    depth = np.ascontiguousarray(depth.astype(np.float32))\n",
    "\n",
    "    assert rgb.shape[0] == depth.shape[0] and rgb.shape[1] == depth.shape[1]\n",
    "    width = rgb.shape[1]\n",
    "    height = rgb.shape[0]\n",
    "\n",
    "    rgb = o3d.geometry.Image(rgb)\n",
    "    depth = o3d.geometry.Image(depth)\n",
    "\n",
    "    rgbd = o3d.geometry.RGBDImage.create_from_color_and_depth(\n",
    "        rgb, depth, depth_scale=1.0, depth_trunc=4.0, convert_rgb_to_intensity=False)\n",
    "    intrinsic = o3d.camera.PinholeCameraIntrinsic(width=width,\n",
    "                                                  height=height,\n",
    "                                                  fx=intrinsics_mat[0, 0],\n",
    "                                                  fy=intrinsics_mat[1, 1],\n",
    "                                                  cx=intrinsics_mat[0, 2],\n",
    "                                                  cy=intrinsics_mat[1, 2])\n",
    "    extrinsic = np.linalg.inv(pose)\n",
    "    # extrinsic = pose\n",
    "    volume.integrate(rgbd, intrinsic, extrinsic)"
   ]
  },
  {
   "cell_type": "code",
   "execution_count": null,
   "metadata": {},
   "outputs": [],
   "source": [
    "mesh = volume.extract_triangle_mesh()"
   ]
  },
  {
   "cell_type": "code",
   "execution_count": null,
   "metadata": {},
   "outputs": [],
   "source": [
    "o3d.visualization.draw_geometries([mesh])"
   ]
  },
  {
   "cell_type": "code",
   "execution_count": null,
   "metadata": {},
   "outputs": [],
   "source": []
  }
 ],
 "metadata": {
  "kernelspec": {
   "display_name": "scene-nerf",
   "language": "python",
   "name": "python3"
  },
  "language_info": {
   "codemirror_mode": {
    "name": "ipython",
    "version": 3
   },
   "file_extension": ".py",
   "mimetype": "text/x-python",
   "name": "python",
   "nbconvert_exporter": "python",
   "pygments_lexer": "ipython3",
   "version": "3.8.16"
  }
 },
 "nbformat": 4,
 "nbformat_minor": 2
}
